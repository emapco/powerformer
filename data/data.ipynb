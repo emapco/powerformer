{
 "cells": [
  {
   "cell_type": "code",
   "execution_count": 1,
   "metadata": {},
   "outputs": [
    {
     "name": "stdout",
     "output_type": "stream",
     "text": [
      "INFO: Pandarallel will run on 12 workers.\n",
      "INFO: Pandarallel will use Memory file system to transfer data between the main process and workers.\n"
     ]
    }
   ],
   "source": [
    "import numpy as np\n",
    "import pandas as pd\n",
    "from pandarallel import pandarallel\n",
    "from scipy import stats\n",
    "\n",
    "pandarallel.initialize(progress_bar=True, nb_workers=12)\n",
    "\n",
    "\n",
    "def beta_dist_sampling(\n",
    "    num_choices: int,\n",
    "    alpha: float = 0.5,\n",
    "    beta: float = 0.5,\n",
    "):\n",
    "    choices_x = np.array([(i + 1) / (num_choices + 1) for i in range(num_choices)])\n",
    "    beta_dist = stats.beta.pdf(choices_x, alpha, beta)\n",
    "    # Normalize to create valid probability distribution\n",
    "    beta_dist_sampling_p = beta_dist / beta_dist.sum()\n",
    "    return beta_dist_sampling_p\n",
    "\n",
    "\n",
    "def create_sliding_windows(\n",
    "    df: pd.DataFrame, context_sizes: list[int] | None = None, pred_len: int = 64\n",
    ") -> pd.DataFrame:\n",
    "    if context_sizes is None:\n",
    "        context_sizes = list(range(64, 1025, 64))\n",
    "\n",
    "    windows = []\n",
    "    curr_i = 0\n",
    "\n",
    "    beta_dist_sampling_p = beta_dist_sampling(len(context_sizes), alpha=0.25, beta=0.01)\n",
    "    while curr_i < len(df) - max(context_sizes) - pred_len:\n",
    "        if len(context_sizes) > 1:\n",
    "            context_len = np.random.choice(context_sizes, p=beta_dist_sampling_p)\n",
    "        else:\n",
    "            context_len = context_sizes[0]\n",
    "        total_len = context_len + pred_len\n",
    "\n",
    "        window_data = {\"context_len\": context_len}\n",
    "        for col in df.columns:\n",
    "            window_data[col] = df[col].iloc[curr_i : curr_i + total_len].to_numpy()\n",
    "\n",
    "        windows.append(window_data)\n",
    "\n",
    "        curr_i += total_len\n",
    "\n",
    "    return pd.DataFrame(windows)\n",
    "\n",
    "\n",
    "def split_dataset(\n",
    "    df: pd.DataFrame,\n",
    "    train_ratio: float = 0.70,\n",
    "    eval_ratio: float = 0.20,\n",
    "    pred_len: int = 64,\n",
    "    context_len: int | None = None,\n",
    "    seed: int = 42,\n",
    ") -> tuple[pd.DataFrame, pd.DataFrame, pd.DataFrame]:\n",
    "    np.random.seed(seed)\n",
    "    df.sort_values(\"timestamp\").reset_index(drop=True, inplace=True)\n",
    "\n",
    "    windowed_df = (\n",
    "        create_sliding_windows(df, pred_len=pred_len, context_sizes=[context_len])\n",
    "        .sample(frac=1, random_state=seed)\n",
    "        .reset_index(drop=True)\n",
    "    )\n",
    "\n",
    "    n_samples = len(windowed_df)\n",
    "    train_idx = int(n_samples * train_ratio)\n",
    "    eval_idx = int(n_samples * (train_ratio + eval_ratio))\n",
    "\n",
    "    train_data = windowed_df.iloc[:train_idx]\n",
    "    eval_data = windowed_df.iloc[train_idx:eval_idx]\n",
    "    test_data = windowed_df.iloc[eval_idx:]\n",
    "\n",
    "    return train_data, eval_data, test_data\n",
    "\n",
    "\n",
    "def save_splits(\n",
    "    path: str,\n",
    "    train: pd.DataFrame,\n",
    "    eval: pd.DataFrame,\n",
    "    test: pd.DataFrame,\n",
    "):\n",
    "    for sample, name in zip([train, eval, test], [\"train\", \"eval\", \"test\"]):\n",
    "        sample.drop(columns=[\"context_len\"], inplace=True)\n",
    "        print(\n",
    "            f\"Saving {name} split - Examples: {sample.shape[0]} Features: {sample.shape[1]}\"\n",
    "        )\n",
    "        sample.to_parquet(\n",
    "            f\"{path}/{name}.parquet\", index=False, engine=\"pyarrow\", compression=\"zstd\"\n",
    "        )"
   ]
  },
  {
   "cell_type": "code",
   "execution_count": 3,
   "metadata": {},
   "outputs": [],
   "source": [
    "def format_raw_electricity_load_data():\n",
    "    # ElectricityLoadDiagrams20112014 raw data\n",
    "    file = \"LD2011_2014.txt\"\n",
    "    df = pd.read_csv(file, sep=\";\", header=0, low_memory=False)\n",
    "    df.rename(columns={\"Unnamed: 0\": \"timestamp\"}, inplace=True)\n",
    "\n",
    "    columns = df.columns.tolist()\n",
    "    columns.remove(\"timestamp\")\n",
    "    columns_dtypes = {col: \"float64\" for col in columns}\n",
    "    for column in columns:\n",
    "        if df[column].dtype == \"object\":\n",
    "            df[column] = df[column].str.replace(\",\", \".\")\n",
    "    df = df.astype(columns_dtypes)\n",
    "    # df.fillna(0, inplace=True)\n",
    "    df.to_parquet(\"power.parquet\", index=False, engine=\"pyarrow\", compression=\"zstd\")\n",
    "\n",
    "\n",
    "format_raw_electricity_load_data()"
   ]
  },
  {
   "cell_type": "code",
   "execution_count": null,
   "metadata": {},
   "outputs": [
    {
     "name": "stdout",
     "output_type": "stream",
     "text": [
      "Saving train split - Examples: 161 Features: 371\n",
      "Saving eval split - Examples: 45 Features: 371\n",
      "Saving test split - Examples: 24 Features: 371\n"
     ]
    }
   ],
   "source": [
    "file = \"power.parquet\"\n",
    "# parameters used in powerformer paper for electricity dataset\n",
    "context_len = 512\n",
    "pred_len = 96\n",
    "\n",
    "df = pd.read_parquet(file)\n",
    "columns = df.columns.tolist()\n",
    "columns.remove(\"timestamp\")\n",
    "df = df.astype({col: \"float64[pyarrow]\" for col in columns})\n",
    "train_samples, eval_samples, test_samples = split_dataset(\n",
    "    df, pred_len=pred_len, context_len=context_len, seed=42\n",
    ")\n",
    "save_splits(\".\", train_samples, eval_samples, test_samples)"
   ]
  },
  {
   "cell_type": "code",
   "execution_count": null,
   "metadata": {},
   "outputs": [],
   "source": []
  }
 ],
 "metadata": {
  "kernelspec": {
   "display_name": ".venv",
   "language": "python",
   "name": "python3"
  },
  "language_info": {
   "codemirror_mode": {
    "name": "ipython",
    "version": 3
   },
   "file_extension": ".py",
   "mimetype": "text/x-python",
   "name": "python",
   "nbconvert_exporter": "python",
   "pygments_lexer": "ipython3",
   "version": "3.12.9"
  }
 },
 "nbformat": 4,
 "nbformat_minor": 2
}
